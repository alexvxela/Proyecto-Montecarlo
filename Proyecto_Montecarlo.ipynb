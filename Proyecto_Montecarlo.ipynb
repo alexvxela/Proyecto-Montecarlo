{
  "nbformat": 4,
  "nbformat_minor": 0,
  "metadata": {
    "colab": {
      "name": "Proyecto_Montecarlo.ipynb",
      "provenance": [],
      "collapsed_sections": []
    },
    "kernelspec": {
      "name": "python3",
      "display_name": "Python 3"
    }
  },
  "cells": [
    {
      "cell_type": "code",
      "metadata": {
        "id": "PZfm-MaeiyHX",
        "colab_type": "code",
        "colab": {
          "base_uri": "https://localhost:8080/",
          "height": 34
        },
        "outputId": "e56abcc5-c810-4dfe-fe57-fc37664b21bb"
      },
      "source": [
        "import numpy as np\n",
        "import scipy.integrate as integrate\n",
        "import matplotlib.pyplot as plt\n",
        "import itertools\n",
        "%pylab inline"
      ],
      "execution_count": 2,
      "outputs": [
        {
          "output_type": "stream",
          "text": [
            "Populating the interactive namespace from numpy and matplotlib\n"
          ],
          "name": "stdout"
        }
      ]
    },
    {
      "cell_type": "markdown",
      "metadata": {
        "id": "uAT1MduU8qvY",
        "colab_type": "text"
      },
      "source": [
        "#Proyecto Montecarlo\n",
        "Por: Alexander Valencia, Daniel Henao"
      ]
    },
    {
      "cell_type": "code",
      "metadata": {
        "id": "X1M2XHNbUZ-D",
        "colab_type": "code",
        "colab": {
          "base_uri": "https://localhost:8080/",
          "height": 1000
        },
        "outputId": "0ae55ef2-7cf4-4652-a0c1-ae0d467a2e28"
      },
      "source": [
        "!apt-get install git dpkg-dev cmake g++ gcc binutils libx11-dev libxpm-dev libxft-dev libxext-dev tar gfortran subversion"
      ],
      "execution_count": 3,
      "outputs": [
        {
          "output_type": "stream",
          "text": [
            "Reading package lists... Done\n",
            "Building dependency tree       \n",
            "Reading state information... Done\n",
            "libxext-dev is already the newest version (2:1.3.3-1).\n",
            "libxext-dev set to manually installed.\n",
            "libxft-dev is already the newest version (2.3.2-1).\n",
            "cmake is already the newest version (3.10.2-1ubuntu2.18.04.1).\n",
            "dpkg-dev is already the newest version (1.19.0.5ubuntu2.3).\n",
            "dpkg-dev set to manually installed.\n",
            "g++ is already the newest version (4:7.4.0-1ubuntu2.3).\n",
            "g++ set to manually installed.\n",
            "gcc is already the newest version (4:7.4.0-1ubuntu2.3).\n",
            "gcc set to manually installed.\n",
            "gfortran is already the newest version (4:7.4.0-1ubuntu2.3).\n",
            "git is already the newest version (1:2.17.1-1ubuntu0.7).\n",
            "libx11-dev is already the newest version (2:1.6.4-3ubuntu0.2).\n",
            "libx11-dev set to manually installed.\n",
            "tar is already the newest version (1.29b-2ubuntu0.1).\n",
            "The following package was automatically installed and is no longer required:\n",
            "  libnvidia-common-440\n",
            "Use 'apt autoremove' to remove it.\n",
            "The following additional packages will be installed:\n",
            "  binutils-common binutils-x86-64-linux-gnu libapr1 libaprutil1 libbinutils\n",
            "  libserf-1-1 libsvn1\n",
            "Suggested packages:\n",
            "  binutils-doc db5.3-util libapache2-mod-svn subversion-tools\n",
            "The following NEW packages will be installed:\n",
            "  libapr1 libaprutil1 libserf-1-1 libsvn1 libxpm-dev subversion\n",
            "The following packages will be upgraded:\n",
            "  binutils binutils-common binutils-x86-64-linux-gnu libbinutils\n",
            "4 upgraded, 6 newly installed, 0 to remove and 31 not upgraded.\n",
            "Need to get 4,851 kB of archives.\n",
            "After this operation, 10.1 MB of additional disk space will be used.\n",
            "Get:1 http://archive.ubuntu.com/ubuntu bionic-updates/main amd64 binutils-x86-64-linux-gnu amd64 2.30-21ubuntu1~18.04.3 [1,839 kB]\n",
            "Get:2 http://archive.ubuntu.com/ubuntu bionic-updates/main amd64 binutils-common amd64 2.30-21ubuntu1~18.04.3 [196 kB]\n",
            "Get:3 http://archive.ubuntu.com/ubuntu bionic-updates/main amd64 binutils amd64 2.30-21ubuntu1~18.04.3 [3,388 B]\n",
            "Get:4 http://archive.ubuntu.com/ubuntu bionic-updates/main amd64 libbinutils amd64 2.30-21ubuntu1~18.04.3 [488 kB]\n",
            "Get:5 http://archive.ubuntu.com/ubuntu bionic/main amd64 libapr1 amd64 1.6.3-2 [90.9 kB]\n",
            "Get:6 http://archive.ubuntu.com/ubuntu bionic/main amd64 libaprutil1 amd64 1.6.1-2 [84.4 kB]\n",
            "Get:7 http://archive.ubuntu.com/ubuntu bionic/universe amd64 libserf-1-1 amd64 1.3.9-6 [44.4 kB]\n",
            "Get:8 http://archive.ubuntu.com/ubuntu bionic/universe amd64 libsvn1 amd64 1.9.7-4ubuntu1 [1,183 kB]\n",
            "Get:9 http://archive.ubuntu.com/ubuntu bionic/main amd64 libxpm-dev amd64 1:3.5.12-1 [87.4 kB]\n",
            "Get:10 http://archive.ubuntu.com/ubuntu bionic/universe amd64 subversion amd64 1.9.7-4ubuntu1 [834 kB]\n",
            "Fetched 4,851 kB in 1s (4,776 kB/s)\n",
            "(Reading database ... 144465 files and directories currently installed.)\n",
            "Preparing to unpack .../0-binutils-x86-64-linux-gnu_2.30-21ubuntu1~18.04.3_amd64.deb ...\n",
            "Unpacking binutils-x86-64-linux-gnu (2.30-21ubuntu1~18.04.3) over (2.30-21ubuntu1~18.04.2) ...\n",
            "Preparing to unpack .../1-binutils-common_2.30-21ubuntu1~18.04.3_amd64.deb ...\n",
            "Unpacking binutils-common:amd64 (2.30-21ubuntu1~18.04.3) over (2.30-21ubuntu1~18.04.2) ...\n",
            "Preparing to unpack .../2-binutils_2.30-21ubuntu1~18.04.3_amd64.deb ...\n",
            "Unpacking binutils (2.30-21ubuntu1~18.04.3) over (2.30-21ubuntu1~18.04.2) ...\n",
            "Preparing to unpack .../3-libbinutils_2.30-21ubuntu1~18.04.3_amd64.deb ...\n",
            "Unpacking libbinutils:amd64 (2.30-21ubuntu1~18.04.3) over (2.30-21ubuntu1~18.04.2) ...\n",
            "Selecting previously unselected package libapr1:amd64.\n",
            "Preparing to unpack .../4-libapr1_1.6.3-2_amd64.deb ...\n",
            "Unpacking libapr1:amd64 (1.6.3-2) ...\n",
            "Selecting previously unselected package libaprutil1:amd64.\n",
            "Preparing to unpack .../5-libaprutil1_1.6.1-2_amd64.deb ...\n",
            "Unpacking libaprutil1:amd64 (1.6.1-2) ...\n",
            "Selecting previously unselected package libserf-1-1:amd64.\n",
            "Preparing to unpack .../6-libserf-1-1_1.3.9-6_amd64.deb ...\n",
            "Unpacking libserf-1-1:amd64 (1.3.9-6) ...\n",
            "Selecting previously unselected package libsvn1:amd64.\n",
            "Preparing to unpack .../7-libsvn1_1.9.7-4ubuntu1_amd64.deb ...\n",
            "Unpacking libsvn1:amd64 (1.9.7-4ubuntu1) ...\n",
            "Selecting previously unselected package libxpm-dev:amd64.\n",
            "Preparing to unpack .../8-libxpm-dev_1%3a3.5.12-1_amd64.deb ...\n",
            "Unpacking libxpm-dev:amd64 (1:3.5.12-1) ...\n",
            "Selecting previously unselected package subversion.\n",
            "Preparing to unpack .../9-subversion_1.9.7-4ubuntu1_amd64.deb ...\n",
            "Unpacking subversion (1.9.7-4ubuntu1) ...\n",
            "Setting up libapr1:amd64 (1.6.3-2) ...\n",
            "Setting up libxpm-dev:amd64 (1:3.5.12-1) ...\n",
            "Setting up binutils-common:amd64 (2.30-21ubuntu1~18.04.3) ...\n",
            "Setting up libaprutil1:amd64 (1.6.1-2) ...\n",
            "Setting up libbinutils:amd64 (2.30-21ubuntu1~18.04.3) ...\n",
            "Setting up libserf-1-1:amd64 (1.3.9-6) ...\n",
            "Setting up libsvn1:amd64 (1.9.7-4ubuntu1) ...\n",
            "Setting up binutils-x86-64-linux-gnu (2.30-21ubuntu1~18.04.3) ...\n",
            "Setting up subversion (1.9.7-4ubuntu1) ...\n",
            "Setting up binutils (2.30-21ubuntu1~18.04.3) ...\n",
            "Processing triggers for man-db (2.8.3-2ubuntu0.1) ...\n",
            "Processing triggers for libc-bin (2.27-3ubuntu1) ...\n",
            "/sbin/ldconfig.real: /usr/local/lib/python3.6/dist-packages/ideep4py/lib/libmkldnn.so.0 is not a symbolic link\n",
            "\n"
          ],
          "name": "stdout"
        }
      ]
    },
    {
      "cell_type": "code",
      "metadata": {
        "id": "MIqh7I6NcL7q",
        "colab_type": "code",
        "colab": {
          "base_uri": "https://localhost:8080/",
          "height": 124
        },
        "outputId": "caa13a4e-a1df-43b8-fe43-28d0e2805506"
      },
      "source": [
        "# Load the Drive helper and mount\n",
        "from google.colab import drive\n",
        "\n",
        "# This will prompt for authorization.\n",
        "drive.mount('/content/drive')"
      ],
      "execution_count": 4,
      "outputs": [
        {
          "output_type": "stream",
          "text": [
            "Go to this URL in a browser: https://accounts.google.com/o/oauth2/auth?client_id=947318989803-6bn6qk8qdgf4n4g3pfee6491hc0brc4i.apps.googleusercontent.com&redirect_uri=urn%3aietf%3awg%3aoauth%3a2.0%3aoob&response_type=code&scope=email%20https%3a%2f%2fwww.googleapis.com%2fauth%2fdocs.test%20https%3a%2f%2fwww.googleapis.com%2fauth%2fdrive%20https%3a%2f%2fwww.googleapis.com%2fauth%2fdrive.photos.readonly%20https%3a%2f%2fwww.googleapis.com%2fauth%2fpeopleapi.readonly\n",
            "\n",
            "Enter your authorization code:\n",
            "··········\n",
            "Mounted at /content/drive\n"
          ],
          "name": "stdout"
        }
      ]
    },
    {
      "cell_type": "code",
      "metadata": {
        "id": "2yGi1mAvcTHG",
        "colab_type": "code",
        "colab": {}
      },
      "source": [
        "!tar -xf /content/drive/Shared\\ drives/PyROOT_in_Google/root_build_google_yikes.tar"
      ],
      "execution_count": 5,
      "outputs": []
    },
    {
      "cell_type": "code",
      "metadata": {
        "id": "lCJfcQ0UcmiF",
        "colab_type": "code",
        "colab": {}
      },
      "source": [
        "import sys\n",
        "sys.path.append(\"/content/root_build/\")\n",
        "sys.path.append(\"/content/root_build/bin/\")\n",
        "sys.path.append(\"/content/root_build/include/\")\n",
        "sys.path.append(\"/content/root_build/lib/\")"
      ],
      "execution_count": 6,
      "outputs": []
    },
    {
      "cell_type": "code",
      "metadata": {
        "id": "rQJFu17IdTdg",
        "colab_type": "code",
        "colab": {
          "base_uri": "https://localhost:8080/",
          "height": 34
        },
        "outputId": "141b6b68-2ad3-4845-c555-3630ccf6a6ce"
      },
      "source": [
        "import ROOT"
      ],
      "execution_count": 7,
      "outputs": [
        {
          "output_type": "stream",
          "text": [
            "Welcome to JupyROOT 6.14/04\n"
          ],
          "name": "stdout"
        }
      ]
    },
    {
      "cell_type": "markdown",
      "metadata": {
        "id": "70tzyDu994eP",
        "colab_type": "text"
      },
      "source": [
        "##Datos Daniel Henao"
      ]
    },
    {
      "cell_type": "code",
      "metadata": {
        "id": "EFfNQ-N_d3eQ",
        "colab_type": "code",
        "colab": {
          "base_uri": "https://localhost:8080/",
          "height": 34
        },
        "outputId": "f298f2b0-21c5-406e-9302-eeb4610be668"
      },
      "source": [
        "# Se carga el archivo ROOT de Daniel Henao\n",
        "\n",
        "DataChain = ROOT.TChain(\"SystemTree\")\n",
        "DataChain.Add(\"/content/drive/My Drive/fiscomp/DanielAndresHenao.root\") # Cambiar ruta de archivo"
      ],
      "execution_count": 8,
      "outputs": [
        {
          "output_type": "execute_result",
          "data": {
            "text/plain": [
              "1"
            ]
          },
          "metadata": {
            "tags": []
          },
          "execution_count": 8
        }
      ]
    },
    {
      "cell_type": "code",
      "metadata": {
        "id": "-SnTo3XBh4Nh",
        "colab_type": "code",
        "colab": {
          "base_uri": "https://localhost:8080/",
          "height": 34
        },
        "outputId": "6b68c8f0-a87f-4aa7-db28-7ac4c40f1332"
      },
      "source": [
        "NumberOfEventsToCheck=DataChain.GetEntries()\n",
        "print(\"We are going to analyze \",NumberOfEventsToCheck, \" events\")"
      ],
      "execution_count": 9,
      "outputs": [
        {
          "output_type": "stream",
          "text": [
            "We are going to analyze  85000  events\n"
          ],
          "name": "stdout"
        }
      ]
    },
    {
      "cell_type": "code",
      "metadata": {
        "id": "14iUhNxFFW5q",
        "colab_type": "code",
        "colab": {
          "base_uri": "https://localhost:8080/",
          "height": 1000
        },
        "outputId": "5a45b823-eae7-4c17-bda9-0bcb06e2a1a4"
      },
      "source": [
        "# Histograma y ajuste de los datos del archivo ROOT de Daniel\n",
        "# Se realiza el ajuste para tener un estimado de los parametros alrededor de los cuales variar\n",
        "# mientras se calcula el chi cuadrado\n",
        "\n",
        "DiMuM = ROOT.TH1F( 'DiMuM', 'Datos Daniel Henao', 200, 0, 900 )\n",
        "c1 = ROOT.TCanvas( 'c1', 'Histogram display', 100, 10, 700, 900 )\n",
        "\n",
        "Datos = []\n",
        "\n",
        "for entry in DataChain:\n",
        "  xvalue = entry.x\n",
        "  DiMuM.Fill(xvalue)\n",
        "  Datos.append(xvalue)\n",
        "\n",
        "DiMuM.Fit(\"landau\")\n",
        "\n",
        "c1.SetFillColor( 0 )\n",
        "DiMuM.Draw()\n",
        "c1.Update()\n",
        "ROOT.gROOT.GetListOfCanvases().Draw()"
      ],
      "execution_count": 10,
      "outputs": [
        {
          "output_type": "stream",
          "text": [
            " FCN=155.268 FROM MIGRAD    STATUS=CONVERGED     200 CALLS         201 TOTAL\n",
            "                     EDM=1.81846e-10    STRATEGY= 1      ERROR MATRIX ACCURATE \n",
            "  EXT PARAMETER                                   STEP         FIRST   \n",
            "  NO.   NAME      VALUE            ERROR          SIZE      DERIVATIVE \n",
            "   1  Constant     2.52903e+04   1.30034e+02   5.35352e-01   1.46808e-07\n",
            "   2  MPV          1.30087e+02   1.14270e-01   5.40524e-04  -1.20378e-04\n",
            "   3  Sigma        1.51086e+01   5.87044e-02   1.71235e-06   6.73481e-02\n"
          ],
          "name": "stdout"
        },
        {
          "output_type": "display_data",
          "data": {
            "image/png": "[encoded data removed]",
            "text/plain": [
              "<IPython.core.display.Image object>"
            ]
          },
          "metadata": {
            "tags": []
          }
        }
      ]
    },
    {
      "cell_type": "code",
      "metadata": {
        "id": "0s6tvqv8IKlc",
        "colab_type": "code",
        "colab": {}
      },
      "source": [
        "# Se hace esto para obtener las frecuencias de los histogramas\n",
        "\n",
        "freqdatos, binsdatos = np.histogram(Datos,bins=200,range=(0,900))"
      ],
      "execution_count": 11,
      "outputs": []
    },
    {
      "cell_type": "code",
      "metadata": {
        "id": "UlDNzUhKh8qF",
        "colab_type": "code",
        "colab": {
          "base_uri": "https://localhost:8080/",
          "height": 34
        },
        "outputId": "95a56c80-46aa-40cb-923b-bd834730111a"
      },
      "source": [
        "# Funcion PDF predefinida en ROOT\n",
        "\n",
        "def LandauPDF(x,u,c):\n",
        "  LandInt = ROOT.TMath.Landau(x,u,c,True)\n",
        "  return LandInt\n",
        "\n",
        "N = integrate.quad(LandauPDF,-np.inf,np.inf,args=(130,15)) # Verificamos que la PDF esta normalizada\n",
        "print(N[0])"
      ],
      "execution_count": 12,
      "outputs": [
        {
          "output_type": "stream",
          "text": [
            "0.9999999996923487\n"
          ],
          "name": "stdout"
        }
      ]
    },
    {
      "cell_type": "code",
      "metadata": {
        "id": "sbN4VlKzDo6F",
        "colab_type": "code",
        "colab": {
          "base_uri": "https://localhost:8080/",
          "height": 34
        },
        "outputId": "560e29af-47ab-4447-8206-66c75e8a2cad"
      },
      "source": [
        "# Funcion para calcular chi cuadrado\n",
        "\n",
        "def chi2(z_o,z_t):\n",
        "    \n",
        "    y = 0\n",
        "    for i in range(len(z_o)):\n",
        "        y += (z_o[i]-z_t[i])**2/abs(z_t[i])\n",
        "    return y\n",
        "\n",
        "# Rangos para los coeficientes u y c de la PDF de Landau\n",
        "# Se refinaron cada vez mas, por eso el rango pequeño, pero al principio el rango fue mayor\n",
        "\n",
        "u = np.arange(114,124,2)\n",
        "c = np.arange(8.2,9.4,0.2)\n",
        "\n",
        "coefs = list(itertools.product(u,c)) # Combinacion de los coeficientes"
      ],
      "execution_count": 13,
      "outputs": [
        {
          "output_type": "stream",
          "text": [
            "35\n"
          ],
          "name": "stdout"
        }
      ]
    },
    {
      "cell_type": "code",
      "metadata": {
        "id": "uF5RfV0Dinfa",
        "colab_type": "code",
        "colab": {}
      },
      "source": [
        "# ALGORITMO DE METROPOLIS Y CALCULO DE CHI CUADRADO PARA CADA COMBINACION DE COEFICIENTES\n",
        "\n",
        "b = 900     # Rango del histograma\n",
        "N = 85000\n",
        "\n",
        "chi2s = []\n",
        "\n",
        "for j in range(len(coefs)):\n",
        "\n",
        "  x0 = b*np.random.random() # Valor inicial\n",
        "  u = coefs[j][0]\n",
        "  c = coefs[j][1]\n",
        "\n",
        "  while LandauPDF(x0,u,c) == 0.: # Para evitar division por cero\n",
        "    x0 = b*np.random.random()\n",
        "  \n",
        "  X = [x0]\n",
        "\n",
        "  while (len(X) < N):\n",
        "\n",
        "    xp = b*np.random.random() # Siguiente valor aleatorio\n",
        "\n",
        "    if LandauPDF(xp,u,c) == 0.: # Para que no haya division por cero\n",
        "      continue\n",
        "\n",
        "    else:\n",
        "      P = LandauPDF(xp,u,c)/LandauPDF(X[-1],u,c)\n",
        "\n",
        "    DeltaS = -np.log(P)\n",
        "\n",
        "    # Condiciones para aceptar o rechazar el nuevo valor aleatorio\n",
        "\n",
        "    if (DeltaS<0):\n",
        "      xi = xp\n",
        "      X.append(xi)\n",
        "\n",
        "    elif (DeltaS>0):\n",
        "      r = np.random.uniform(0,1,1)\n",
        "      \n",
        "      if (r<P):\n",
        "        xi=xp\n",
        "        X.append(xi)\n",
        "\n",
        "  # Frecuencias de las muestras generadas para una combinacion de u y c\n",
        "  freqMetro, bins = np.histogram(X,bins=200,range=(0,900))\n",
        "\n",
        "  # Se guardan los valores de chi2 para cada combinacion de u y c\n",
        "  chi2s.append(chi2(freqdatos+1,freqMetro+1))  # Se corren las curvas una frecuencia hacia arriba para que no haya division por cero, \n",
        "                                               # pero esto no afecta el criterio chi2"
      ],
      "execution_count": 14,
      "outputs": []
    },
    {
      "cell_type": "code",
      "metadata": {
        "id": "BYzkLMZ4ithK",
        "colab_type": "code",
        "colab": {
          "base_uri": "https://localhost:8080/",
          "height": 52
        },
        "outputId": "04f64101-9301-47a8-b0c5-198b0bde8c34"
      },
      "source": [
        "c_min = chi2s.index(min(chi2s))\n",
        "\n",
        "print(\"El valor minimo de chi cuadrado es\",min(chi2s))\n",
        "print(\"Los coeficientes correspondientes son\",coefs[c_min])"
      ],
      "execution_count": 15,
      "outputs": [
        {
          "output_type": "stream",
          "text": [
            "El valor minimo de chi cuadrado es 13455.382516974822\n",
            "Los coeficientes correspondientes son (118, 8.599999999999998)\n"
          ],
          "name": "stdout"
        }
      ]
    },
    {
      "cell_type": "code",
      "metadata": {
        "id": "PFXV6Bk64ekS",
        "colab_type": "code",
        "colab": {}
      },
      "source": [
        "# Se generan las muestras con los mejores coeficientes\n",
        "# volviendo a usar el algoritmo de Metropolis\n",
        "\n",
        "b = 900\n",
        "N = 85000\n",
        "x0 = b*np.random.random()\n",
        "u = coefs[c_min][0]  #Mejores coeficientes\n",
        "c = coefs[c_min][1]\n",
        "\n",
        "while LandauPDF(x0,u,c)==0: \n",
        "  x0 = b*np.random.random()\n",
        "\n",
        "X = [x0]\n",
        "\n",
        "while (len(X) < N):\n",
        "  xp = b*np.random.random()\n",
        "\n",
        "  if LandauPDF(xp,u,c)==0:\n",
        "    continue\n",
        "\n",
        "  else:\n",
        "    P = LandauPDF(xp,u,c)/LandauPDF(X[-1],u,c)\n",
        "\n",
        "  DeltaS = -np.log(P)\n",
        "\n",
        "  if (DeltaS<0):\n",
        "    xi = xp\n",
        "    X.append(xi)\n",
        "\n",
        "  elif (DeltaS>0):\n",
        "    r = np.random.uniform(0,1,1)\n",
        "    if (r<P):\n",
        "      xi=xp\n",
        "      X.append(xi)"
      ],
      "execution_count": 16,
      "outputs": []
    },
    {
      "cell_type": "code",
      "metadata": {
        "id": "b2c4FAWEu0pP",
        "colab_type": "code",
        "colab": {
          "base_uri": "https://localhost:8080/",
          "height": 906
        },
        "outputId": "d3c3648d-d69f-4b0c-ffaa-56d56369f5b4"
      },
      "source": [
        "# Histograma con las muestras generadas con el algoritmo de Metropolis usando los mejores coeficientes (segun chi2)\n",
        "\n",
        "Hist = ROOT.TH1F( 'Hist', 'Generados con Metropolis', 200, 0, 900 )\n",
        "c1 = ROOT.TCanvas( 'c1', 'Histogram display', 100, 10, 700, 900 )\n",
        "\n",
        "for entry in X:\n",
        "  Hist.Fill(entry)\n",
        "\n",
        "c1.SetFillColor( 0 )\n",
        "Hist.Draw()\n",
        "c1.Update()\n",
        "ROOT.gROOT.GetListOfCanvases().Draw()"
      ],
      "execution_count": 17,
      "outputs": [
        {
          "output_type": "stream",
          "text": [
            "Warning in <TCanvas::Constructor>: Deleting canvas with same name: c1\n"
          ],
          "name": "stderr"
        },
        {
          "output_type": "display_data",
          "data": {
            "image/png": "[encoded data removed]",
            "text/plain": [
              "<IPython.core.display.Image object>"
            ]
          },
          "metadata": {
            "tags": []
          }
        }
      ]
    },
    {
      "cell_type": "markdown",
      "metadata": {
        "id": "kGKlN3Tx996N",
        "colab_type": "text"
      },
      "source": [
        "##Datos Alexander Valencia"
      ]
    },
    {
      "cell_type": "code",
      "metadata": {
        "id": "F1VEy33qp8eX",
        "colab_type": "code",
        "colab": {
          "base_uri": "https://localhost:8080/",
          "height": 34
        },
        "outputId": "6a34a709-55b2-4aca-c241-ea4a415198ec"
      },
      "source": [
        "# Se carga el archivo ROOT de Alexander Valencia\n",
        "\n",
        "DataChain2=ROOT.TChain(\"SystemTree\")\n",
        "DataChain2.Add(\"/content/drive/My Drive/fiscomp/AlexanderValencia.root\") # Cambiar ruta de archivo"
      ],
      "execution_count": 18,
      "outputs": [
        {
          "output_type": "execute_result",
          "data": {
            "text/plain": [
              "1"
            ]
          },
          "metadata": {
            "tags": []
          },
          "execution_count": 18
        }
      ]
    },
    {
      "cell_type": "code",
      "metadata": {
        "id": "4BTN72rhBWti",
        "colab_type": "code",
        "colab": {
          "base_uri": "https://localhost:8080/",
          "height": 34
        },
        "outputId": "18667830-6207-40cc-f078-74054ebe2a35"
      },
      "source": [
        "NumberOfEventsToCheck=DataChain2.GetEntries()\n",
        "print(\"We are going to analyze \",NumberOfEventsToCheck, \" events\")"
      ],
      "execution_count": 19,
      "outputs": [
        {
          "output_type": "stream",
          "text": [
            "We are going to analyze  80000  events\n"
          ],
          "name": "stdout"
        }
      ]
    },
    {
      "cell_type": "code",
      "metadata": {
        "id": "NjihdCidBaMy",
        "colab_type": "code",
        "colab": {
          "base_uri": "https://localhost:8080/",
          "height": 1000
        },
        "outputId": "4dd25cd0-5bcd-4427-b88f-396984ed8e6c"
      },
      "source": [
        "# Histograma y ajuste de los datos del archivo ROOT de Alexander\n",
        "\n",
        "DiMuM = ROOT.TH1F( 'DiMuM', 'Datos Alexander Valencia', 200, 0, 700 )\n",
        "c1 = ROOT.TCanvas( 'c1', 'Histogram display', 100, 10, 700, 900 )\n",
        "\n",
        "Datos2 = []\n",
        "\n",
        "for entry in DataChain2:\n",
        "  xvalue = entry.x\n",
        "  DiMuM.Fill(xvalue)\n",
        "  Datos2.append(xvalue)\n",
        "\n",
        "DiMuM.Fit(\"landau\")\n",
        "\n",
        "c1.SetFillColor( 0 )\n",
        "DiMuM.Draw()\n",
        "c1.Update()\n",
        "ROOT.gROOT.GetListOfCanvases().Draw()"
      ],
      "execution_count": 20,
      "outputs": [
        {
          "output_type": "stream",
          "text": [
            " FCN=167.466 FROM MIGRAD    STATUS=CONVERGED     204 CALLS         205 TOTAL\n",
            "                     EDM=1.44659e-07    STRATEGY= 1      ERROR MATRIX ACCURATE \n",
            "  EXT PARAMETER                                   STEP         FIRST   \n",
            "  NO.   NAME      VALUE            ERROR          SIZE      DERIVATIVE \n",
            "   1  Constant     2.79641e+04   1.47654e+02   6.34232e-01  -3.61276e-06\n",
            "   2  MPV          2.19998e+02   7.78668e-02   3.85953e-04  -1.77604e-03\n",
            "   3  Sigma        9.99346e+00   3.97703e-02   1.88248e-06  -1.38343e+00\n"
          ],
          "name": "stdout"
        },
        {
          "output_type": "stream",
          "text": [
            "Warning in <TROOT::Append>: Replacing existing TH1: DiMuM (Potential memory leak).\n",
            "Warning in <TCanvas::Constructor>: Deleting canvas with same name: c1\n"
          ],
          "name": "stderr"
        },
        {
          "output_type": "display_data",
          "data": {
            "image/png": "[encoded data removed]",
            "text/plain": [
              "<IPython.core.display.Image object>"
            ]
          },
          "metadata": {
            "tags": []
          }
        }
      ]
    },
    {
      "cell_type": "code",
      "metadata": {
        "id": "WWvqz7TAB5ZC",
        "colab_type": "code",
        "colab": {
          "base_uri": "https://localhost:8080/",
          "height": 34
        },
        "outputId": "41e38203-91db-469a-ae3a-c92d86e8235a"
      },
      "source": [
        "# Se guardan las frecuencias del histograma\n",
        "freqdatos2, binsdatos2 = np.histogram(Datos2,bins=200,range=(0,700))\n",
        "\n",
        "# Rangos para los coeficientes u y c de la PDF\n",
        "u2 = np.linspace(210,230,6) \n",
        "c2 = np.linspace(7,11,6) \n",
        "\n",
        "coefs2 = list(itertools.product(u2,c2))"
      ],
      "execution_count": 28,
      "outputs": [
        {
          "output_type": "stream",
          "text": [
            "36\n"
          ],
          "name": "stdout"
        }
      ]
    },
    {
      "cell_type": "code",
      "metadata": {
        "id": "D1AqbyCHKVav",
        "colab_type": "code",
        "colab": {}
      },
      "source": [
        "# ALGORITMO DE METROPOLIS Y CALCULO DE CHI CUADRADO PARA CADA COMBINACION DE COEFICIENTES\n",
        "\n",
        "b = 700     # Rango del histograma\n",
        "N = 80000\n",
        "\n",
        "chi2s2 = []\n",
        "\n",
        "for j in range(len(coefs2)):\n",
        "\n",
        "  x0 = b*np.random.random()\n",
        "  u = coefs2[j][0]\n",
        "  c = coefs2[j][1]\n",
        "\n",
        "  while LandauPDF(x0,u,c)==0: # Para evitar division por cero\n",
        "    x0 = b*np.random.random()\n",
        "\n",
        "  X = [x0]\n",
        "\n",
        "  while (len(X) < N):\n",
        "\n",
        "    xp = b*np.random.random()\n",
        "\n",
        "    if LandauPDF(xp,u,c)==0: # Para evitar division por cero\n",
        "      continue\n",
        "\n",
        "    else:\n",
        "      P = LandauPDF(xp,u,c)/LandauPDF(X[-1],u,c)\n",
        "\n",
        "    DeltaS = -np.log(P)\n",
        "\n",
        "    if (DeltaS<0):\n",
        "      xi = xp\n",
        "      X.append(xi)\n",
        "\n",
        "    elif (DeltaS>0):\n",
        "      r = np.random.uniform(0,1,1)\n",
        "      \n",
        "      if (r<P):\n",
        "        xi=xp\n",
        "        X.append(xi)\n",
        "\n",
        "  freqMetro2, bins2 = np.histogram(X,bins=200,range=(0,700))\n",
        "\n",
        "  chi2s2.append(chi2(freqdatos2+1,freqMetro2+1)) "
      ],
      "execution_count": 29,
      "outputs": []
    },
    {
      "cell_type": "code",
      "metadata": {
        "id": "xgJ0jcuLNrgE",
        "colab_type": "code",
        "colab": {
          "base_uri": "https://localhost:8080/",
          "height": 89
        },
        "outputId": "9e38c9be-236c-41ba-a901-495af73c54ac"
      },
      "source": [
        "c_min2 = chi2s2.index(min(chi2s2))\n",
        "\n",
        "print(\"El valor minimo de chi cuadrado es\",min(chi2s2))\n",
        "print(\"Los coeficientes correspondientes son\",coefs2[c_min2])"
      ],
      "execution_count": 30,
      "outputs": [
        {
          "output_type": "stream",
          "text": [
            "El valor minimo de chi cuadrado es 14287.1711198524\n",
            "Los coeficientes correspondientes son (214.0, 7.0)\n",
            "[19466.022741984772, 23763.654688584018, 26491.523680571172, 32048.421365756098, 35846.93658261665, 39832.39262928765, 14287.1711198524, 18250.377803771044, 22179.087776520868, 26657.031181746774, 31056.36835572294, 34741.91611191796, 17624.15591993556, 17263.990185685187, 20345.8506368798, 23864.24682189134, 27192.711809775366, 32181.834693836037, 145492.29088353948, 73337.2127400366, 25113.28285476195, 24600.17758710389, 27620.070591261487, 31832.57504813473, 1488234.8861456495, 365874.4589193982, 95306.2321474014, 45056.60746894262, 35973.00537139622, 34373.378454807746, 5859235.112821622, 3489459.379719238, 875826.3137911723, 381194.4420476377, 82087.87123402611, 53034.86917756205]\n"
          ],
          "name": "stdout"
        }
      ]
    },
    {
      "cell_type": "code",
      "metadata": {
        "id": "M4rI2W77N9p3",
        "colab_type": "code",
        "colab": {}
      },
      "source": [
        "# Se generan las muestras con los mejores coeficientes\n",
        "\n",
        "b = 700\n",
        "N = 80000\n",
        "x0 = b*np.random.random()\n",
        "u = coefs2[c_min2][0]  #Mejores coeficientes\n",
        "c = coefs2[c_min2][1]\n",
        "\n",
        "while LandauPDF(x0,u,c)==0: \n",
        "  x0 = b*np.random.random()\n",
        "\n",
        "X = [x0]\n",
        "\n",
        "while (len(X) < N):\n",
        "  xp = b*np.random.random()\n",
        "\n",
        "  if LandauPDF(xp,u,c)==0:\n",
        "    continue\n",
        "\n",
        "  else:\n",
        "    P = LandauPDF(xp,u,c)/LandauPDF(X[-1],u,c)\n",
        "\n",
        "  DeltaS = -np.log(P)\n",
        "\n",
        "  if (DeltaS<0):\n",
        "    xi = xp\n",
        "    X.append(xi)\n",
        "\n",
        "  elif (DeltaS>0):\n",
        "    r = np.random.uniform(0,1,1)\n",
        "    if (r<P):\n",
        "      xi=xp\n",
        "      X.append(xi)"
      ],
      "execution_count": 31,
      "outputs": []
    },
    {
      "cell_type": "code",
      "metadata": {
        "id": "cLw2QPCfOQKO",
        "colab_type": "code",
        "colab": {
          "base_uri": "https://localhost:8080/",
          "height": 924
        },
        "outputId": "246137bb-f039-481a-f00c-818d9f5b9bcb"
      },
      "source": [
        "# Histograma con las muestras generadas con el algoritmo de Metropolis usando los mejores coeficientes (segun chi2)\n",
        "\n",
        "Hist = ROOT.TH1F( 'Hist', 'Generados con Metropolis', 200, 0, 700 )\n",
        "c1 = ROOT.TCanvas( 'c1', 'Histogram display', 100, 10, 700, 900 )\n",
        "\n",
        "for entry in X:\n",
        "  Hist.Fill(entry)\n",
        "\n",
        "c1.SetFillColor( 0 )\n",
        "Hist.Draw()\n",
        "c1.Update()\n",
        "ROOT.gROOT.GetListOfCanvases().Draw()"
      ],
      "execution_count": 32,
      "outputs": [
        {
          "output_type": "stream",
          "text": [
            "Warning in <TROOT::Append>: Replacing existing TH1: Hist (Potential memory leak).\n",
            "Warning in <TCanvas::Constructor>: Deleting canvas with same name: c1\n"
          ],
          "name": "stderr"
        },
        {
          "output_type": "display_data",
          "data": {
            "image/png": "[encoded data removed]",
            "text/plain": [
              "<IPython.core.display.Image object>"
            ]
          },
          "metadata": {
            "tags": []
          }
        }
      ]
    },
    {
      "cell_type": "code",
      "metadata": {
        "id": "wpkF28lk5ThP",
        "colab_type": "code",
        "colab": {}
      },
      "source": [
        ""
      ],
      "execution_count": null,
      "outputs": []
    }
  ]
}